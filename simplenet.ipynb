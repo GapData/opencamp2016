{
 "cells": [
  {
   "cell_type": "code",
   "execution_count": 1,
   "metadata": {},
   "outputs": [
    {
     "name": "stderr",
     "output_type": "stream",
     "text": [
      "Using TensorFlow backend.\n"
     ]
    }
   ],
   "source": [
    "from keras.layers import Input, Dense\n",
    "from keras.models import Model\n",
    "import numpy as np"
   ]
  },
  {
   "cell_type": "code",
   "execution_count": 2,
   "metadata": {
    "collapsed": true
   },
   "outputs": [],
   "source": [
    "np.random.seed(3)"
   ]
  },
  {
   "cell_type": "code",
   "execution_count": 3,
   "metadata": {},
   "outputs": [],
   "source": [
    "x = Input(shape=(2,))\n",
    "y = Dense(1, activation='relu')(x)"
   ]
  },
  {
   "cell_type": "code",
   "execution_count": 4,
   "metadata": {},
   "outputs": [],
   "source": [
    "model = Model(inputs=x, outputs=y)"
   ]
  },
  {
   "cell_type": "code",
   "execution_count": 5,
   "metadata": {},
   "outputs": [
    {
     "name": "stdout",
     "output_type": "stream",
     "text": [
      "_________________________________________________________________\n",
      "Layer (type)                 Output Shape              Param #   \n",
      "=================================================================\n",
      "input_1 (InputLayer)         (None, 2)                 0         \n",
      "_________________________________________________________________\n",
      "dense_1 (Dense)              (None, 1)                 3         \n",
      "=================================================================\n",
      "Total params: 3\n",
      "Trainable params: 3\n",
      "Non-trainable params: 0\n",
      "_________________________________________________________________\n"
     ]
    }
   ],
   "source": [
    "model.summary()"
   ]
  },
  {
   "cell_type": "code",
   "execution_count": 6,
   "metadata": {
    "collapsed": true
   },
   "outputs": [],
   "source": [
    "model.compile(optimizer='adam',\n",
    "              loss='mean_squared_error',\n",
    "              metrics=['accuracy'])"
   ]
  },
  {
   "cell_type": "code",
   "execution_count": 7,
   "metadata": {},
   "outputs": [
    {
     "name": "stdout",
     "output_type": "stream",
     "text": [
      "Epoch 1/1\n",
      "15/15 [==============================] - 0s - loss: 40662970368.0000 - acc: 0.0667\n"
     ]
    },
    {
     "data": {
      "text/plain": [
       "<keras.callbacks.History at 0x11e8a2be0>"
      ]
     },
     "execution_count": 7,
     "metadata": {},
     "output_type": "execute_result"
    }
   ],
   "source": [
    "data = [(450000 , 65), (245000 , 55), (78000, 70), (58000, 61), (240000, 87), (200000, 59), (20000, 65), (10000, 34), (5000, 54), (2000, 62), (890, 58), (150, 50), (35, 60), (10, 68), (0, 66)]\n",
    "labels = [423940, 689234, 78002, 34200, 290435, 531919, 2, 2450, 5456, 34, 978, 134, 1349, 0, 43]\n",
    "model.fit(data, labels)"
   ]
  },
  {
   "cell_type": "code",
   "execution_count": 8,
   "metadata": {
    "collapsed": true
   },
   "outputs": [],
   "source": [
    "data_test = [(0 , 70), (500000 , 60)]\n",
    "votes = model.predict(data_test)"
   ]
  },
  {
   "cell_type": "code",
   "execution_count": 9,
   "metadata": {},
   "outputs": [
    {
     "data": {
      "text/plain": [
       "array([[      0. ],\n",
       "       [ 228787.5]], dtype=float32)"
      ]
     },
     "execution_count": 9,
     "metadata": {},
     "output_type": "execute_result"
    }
   ],
   "source": [
    "votes"
   ]
  },
  {
   "cell_type": "code",
   "execution_count": 10,
   "metadata": {},
   "outputs": [
    {
     "name": "stdout",
     "output_type": "stream",
     "text": [
      "Epoch 1/1\n",
      "15/15 [==============================] - 0s - loss: 40612990976.0000 - acc: 0.0667\n",
      "Epoch 1/1\n",
      "15/15 [==============================] - 0s - loss: 40563068928.0000 - acc: 0.0667\n",
      "Epoch 1/1\n",
      "15/15 [==============================] - 0s - loss: 40513204224.0000 - acc: 0.0667\n",
      "Epoch 1/1\n",
      "15/15 [==============================] - 0s - loss: 40463384576.0000 - acc: 0.0667\n",
      "Epoch 1/1\n",
      "15/15 [==============================] - 0s - loss: 40413614080.0000 - acc: 0.0667\n",
      "Epoch 1/1\n",
      "15/15 [==============================] - 0s - loss: 40363909120.0000 - acc: 0.0667\n",
      "Epoch 1/1\n",
      "15/15 [==============================] - 0s - loss: 40314253312.0000 - acc: 0.0667\n",
      "Epoch 1/1\n",
      "15/15 [==============================] - 0s - loss: 40264654848.0000 - acc: 0.0667\n",
      "Epoch 1/1\n",
      "15/15 [==============================] - 0s - loss: 40215109632.0000 - acc: 0.0667\n",
      "Epoch 1/1\n",
      "15/15 [==============================] - 0s - loss: 40165625856.0000 - acc: 0.0667\n"
     ]
    }
   ],
   "source": [
    "for _ in range(0, 10): model.fit(data, labels)"
   ]
  },
  {
   "cell_type": "code",
   "execution_count": 11,
   "metadata": {
    "collapsed": true
   },
   "outputs": [],
   "source": [
    "votes = model.predict(data_test)"
   ]
  },
  {
   "cell_type": "code",
   "execution_count": 12,
   "metadata": {},
   "outputs": [
    {
     "data": {
      "text/plain": [
       "array([[      0.     ],\n",
       "       [ 233785.96875]], dtype=float32)"
      ]
     },
     "execution_count": 12,
     "metadata": {},
     "output_type": "execute_result"
    }
   ],
   "source": [
    "votes"
   ]
  }
 ],
 "metadata": {
  "kernelspec": {
   "display_name": "Python 3",
   "language": "python",
   "name": "python3"
  },
  "language_info": {
   "codemirror_mode": {
    "name": "ipython",
    "version": 3
   },
   "file_extension": ".py",
   "mimetype": "text/x-python",
   "name": "python",
   "nbconvert_exporter": "python",
   "pygments_lexer": "ipython3",
   "version": "3.6.2"
  }
 },
 "nbformat": 4,
 "nbformat_minor": 2
}
